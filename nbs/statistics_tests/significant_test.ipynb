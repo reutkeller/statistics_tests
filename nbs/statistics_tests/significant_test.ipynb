{
 "cells": [
  {
   "cell_type": "code",
   "execution_count": 1,
   "metadata": {},
   "outputs": [],
   "source": [
    "#|default_exp sig_test"
   ]
  },
  {
   "cell_type": "markdown",
   "metadata": {},
   "source": [
    "# Significant tests"
   ]
  },
  {
   "cell_type": "code",
   "execution_count": 5,
   "metadata": {},
   "outputs": [],
   "source": [
    "#|hide\n",
    "from nbdev.showdoc import *"
   ]
  },
  {
   "cell_type": "code",
   "execution_count": 6,
   "metadata": {},
   "outputs": [],
   "source": [
    "#|hide\n",
    "#|export\n",
    "import pandas as pd\n",
    "import numpy as np\n",
    "# import statsmodels.api as sm\n",
    "# import scipy.stats as stats\n",
    "# from statsmodels.formula.api import ols\n",
    "\n",
    "import matplotlib.pyplot as plt\n",
    "import scipy.stats as stats\n",
    "\n",
    "# import seaborn as sns\n",
    "\n",
    "\n",
    "# import scikit_posthocs as sp\n",
    "# import pandas as pd\n",
    "# import numpy as np\n",
    "# from io import StringIO\n",
    "\n",
    "# from statistics_tests import const_vals as const"
   ]
  },
  {
   "cell_type": "markdown",
   "metadata": {},
   "source": [
    "Constants - to be moved into another notebooks "
   ]
  },
  {
   "cell_type": "code",
   "execution_count": 15,
   "metadata": {},
   "outputs": [],
   "source": [
    "user_defined_number=50\n",
    "str_id = 'A'\n",
    "\n",
    "\n",
    "#shapiro table\n",
    "\n",
    "shapiro_group_code_str = 'group_code'\n",
    "shapiro_statistic_str='shapiro_statistic'\n",
    "shapiro_p_value_str ='shapiro_p_value'\n",
    "\n",
    "#anova / significant differnce test \n",
    "group_code_str = 'group_code'\n",
    "p_value_str= 'p_value'\n",
    "\n",
    "sig_test_name_col_name = 'test_name'\n",
    "\n",
    "\n",
    "anova_name_str='one_way_anova'\n",
    "\n",
    "p_value_border = 0.05\n"
   ]
  },
  {
   "cell_type": "markdown",
   "metadata": {},
   "source": [
    "Create example dataframe "
   ]
  },
  {
   "cell_type": "code",
   "execution_count": 13,
   "metadata": {},
   "outputs": [
    {
     "data": {
      "text/html": [
       "<div>\n",
       "<style scoped>\n",
       "    .dataframe tbody tr th:only-of-type {\n",
       "        vertical-align: middle;\n",
       "    }\n",
       "\n",
       "    .dataframe tbody tr th {\n",
       "        vertical-align: top;\n",
       "    }\n",
       "\n",
       "    .dataframe thead th {\n",
       "        text-align: right;\n",
       "    }\n",
       "</style>\n",
       "<table border=\"1\" class=\"dataframe\">\n",
       "  <thead>\n",
       "    <tr style=\"text-align: right;\">\n",
       "      <th></th>\n",
       "      <th>id</th>\n",
       "      <th>value</th>\n",
       "      <th>group</th>\n",
       "    </tr>\n",
       "  </thead>\n",
       "  <tbody>\n",
       "    <tr>\n",
       "      <th>0</th>\n",
       "      <td>A1</td>\n",
       "      <td>-0.020158</td>\n",
       "      <td>5</td>\n",
       "    </tr>\n",
       "    <tr>\n",
       "      <th>1</th>\n",
       "      <td>A2</td>\n",
       "      <td>0.007310</td>\n",
       "      <td>4</td>\n",
       "    </tr>\n",
       "    <tr>\n",
       "      <th>2</th>\n",
       "      <td>A3</td>\n",
       "      <td>-0.017588</td>\n",
       "      <td>1</td>\n",
       "    </tr>\n",
       "    <tr>\n",
       "      <th>3</th>\n",
       "      <td>A4</td>\n",
       "      <td>-0.007961</td>\n",
       "      <td>6</td>\n",
       "    </tr>\n",
       "    <tr>\n",
       "      <th>4</th>\n",
       "      <td>A5</td>\n",
       "      <td>-0.035727</td>\n",
       "      <td>2</td>\n",
       "    </tr>\n",
       "  </tbody>\n",
       "</table>\n",
       "</div>"
      ],
      "text/plain": [
       "   id     value  group\n",
       "0  A1 -0.020158      5\n",
       "1  A2  0.007310      4\n",
       "2  A3 -0.017588      1\n",
       "3  A4 -0.007961      6\n",
       "4  A5 -0.035727      2"
      ]
     },
     "execution_count": 13,
     "metadata": {},
     "output_type": "execute_result"
    }
   ],
   "source": [
    "#|export\n",
    "\n",
    "data = {\n",
    "    'id': [str_id + str(i) for i in range(1, user_defined_number + 1)],\n",
    "    'value': ((0.01 - 0.07) * np.random.rand(user_defined_number)+ 0.01).tolist(),\n",
    "    'group': np.random.randint(1, 7, size=user_defined_number).tolist()\n",
    "}\n",
    "df=pd.DataFrame(data)\n",
    "df.head(5)"
   ]
  },
  {
   "cell_type": "markdown",
   "metadata": {},
   "source": [
    "# Anova test "
   ]
  },
  {
   "cell_type": "markdown",
   "metadata": {},
   "source": [
    "to be written "
   ]
  },
  {
   "cell_type": "code",
   "execution_count": 11,
   "metadata": {},
   "outputs": [],
   "source": [
    "#|export\n",
    "\n",
    "def anova_test(\n",
    "    df : pd.DataFrame , # DataFrame containing the observations and a column specifying the group to which each observation belongs.\n",
    "    group_col_name : str, # the column name which contain the group code \n",
    "    values_col_name : str , # the coulmn name of the column that contains the values of each observation\n",
    "    ):\n",
    "  \n",
    "  group_codes = df[group_col_name].unique().tolist()\n",
    "  dfs_for_test =[df[df[group_col_name] == val][values_col_name] for val in group_codes]\n",
    "\n",
    "  shapiros={shapiro_group_code_str  : [], shapiro_statistic_str: [] , shapiro_p_value_str:[]}\n",
    "  \n",
    "  sig_tests_results={group_code_str  : [], p_value_str: [], sig_test_name_col_name : [] }\n",
    "\n",
    "  for group_code in group_codes:\n",
    "        tmp = df[df[group_col_name] == group_code]\n",
    "        shapiro_test = stats.shapiro(tmp[tmp[group_col_name] == group_code][values_col_name])\n",
    "\n",
    "        shapiros[shapiro_group_code_str].append(group_code)\n",
    "        shapiros[shapiro_statistic_str].append(shapiro_test[0])\n",
    "        shapiros[shapiro_p_value_str].append(shapiro_test[1])\n",
    "\n",
    "\n",
    "  shapiros_df=pd.DataFrame(shapiros)\n",
    "\n",
    "  if (shapiros_df[shapiro_p_value_str] < p_value_border).all():\n",
    "    # dfs_for_levene =[df[df[group_col_name] == val][values_col_name] for val in group_codes]\n",
    "\n",
    "    levene_result = stats.levene(*dfs_for_test)\n",
    "    \n",
    "    if levene_result[1]>p_value_border:\n",
    "        \n",
    "        anova=stats.f_oneway(dfs_for_test)\n",
    "        sig_tests_results[shapiro_group_code_str].append(group_code)\n",
    "        sig_tests_results[p_value_str].append(anova[1])\n",
    "        sig_tests_results[sig_test_name_col_name].append(anova_name_str)\n",
    "\n",
    "\n",
    "  \n",
    "  return dfs_for_levene\n",
    "        \n",
    "  "
   ]
  },
  {
   "cell_type": "code",
   "execution_count": 12,
   "metadata": {},
   "outputs": [
    {
     "ename": "UnboundLocalError",
     "evalue": "cannot access local variable 'dfs_for_levene' where it is not associated with a value",
     "output_type": "error",
     "traceback": [
      "\u001b[1;31m---------------------------------------------------------------------------\u001b[0m",
      "\u001b[1;31mUnboundLocalError\u001b[0m                         Traceback (most recent call last)",
      "Cell \u001b[1;32mIn[12], line 1\u001b[0m\n\u001b[1;32m----> 1\u001b[0m shapiros\u001b[38;5;241m=\u001b[39m\u001b[43manova_test\u001b[49m\u001b[43m(\u001b[49m\n\u001b[0;32m      2\u001b[0m \u001b[43m    \u001b[49m\u001b[43mdf\u001b[49m\u001b[43m \u001b[49m\u001b[38;5;241;43m=\u001b[39;49m\u001b[43mdf\u001b[49m\u001b[43m,\u001b[49m\n\u001b[0;32m      3\u001b[0m \u001b[43m    \u001b[49m\u001b[43mgroup_col_name\u001b[49m\u001b[43m \u001b[49m\u001b[38;5;241;43m=\u001b[39;49m\u001b[43m \u001b[49m\u001b[38;5;124;43m'\u001b[39;49m\u001b[38;5;124;43mgroup\u001b[39;49m\u001b[38;5;124;43m'\u001b[39;49m\u001b[43m,\u001b[49m\n\u001b[0;32m      4\u001b[0m \u001b[43m    \u001b[49m\u001b[43mvalues_col_name\u001b[49m\u001b[38;5;241;43m=\u001b[39;49m\u001b[43m \u001b[49m\u001b[38;5;124;43m'\u001b[39;49m\u001b[38;5;124;43mvalue\u001b[39;49m\u001b[38;5;124;43m'\u001b[39;49m\u001b[43m)\u001b[49m\n\u001b[0;32m      6\u001b[0m shapiros\n",
      "Cell \u001b[1;32mIn[11], line 39\u001b[0m, in \u001b[0;36manova_test\u001b[1;34m(df, group_col_name, values_col_name)\u001b[0m\n\u001b[0;32m     28\u001b[0m     levene_result \u001b[38;5;241m=\u001b[39m stats\u001b[38;5;241m.\u001b[39mlevene(\u001b[38;5;241m*\u001b[39mdfs_for_levene)\n\u001b[0;32m     30\u001b[0m     \u001b[38;5;66;03m# if levene[1]>p_value_border:\u001b[39;00m\n\u001b[0;32m     31\u001b[0m     \u001b[38;5;66;03m#     anova=stats.f_oneway(tmp[w][tmp['code']==a],tmp[w][tmp['code']==b],tmp[w][tmp['code']==c])\u001b[39;00m\n\u001b[0;32m     32\u001b[0m     \u001b[38;5;66;03m#     fill_pvalue.append(anova[1])\u001b[39;00m\n\u001b[1;32m   (...)\u001b[0m\n\u001b[0;32m     35\u001b[0m \n\u001b[0;32m     36\u001b[0m \u001b[38;5;66;03m# #     levene_results[value] = levene_result\u001b[39;00m\n\u001b[1;32m---> 39\u001b[0m   \u001b[38;5;28;01mreturn\u001b[39;00m \u001b[43mdfs_for_levene\u001b[49m\n",
      "\u001b[1;31mUnboundLocalError\u001b[0m: cannot access local variable 'dfs_for_levene' where it is not associated with a value"
     ]
    }
   ],
   "source": [
    "shapiros=anova_test(\n",
    "    df =df,\n",
    "    group_col_name = 'group',\n",
    "    values_col_name= 'value')\n",
    "\n",
    "shapiros"
   ]
  },
  {
   "cell_type": "code",
   "execution_count": null,
   "metadata": {},
   "outputs": [],
   "source": [
    "group_codes = df['group'].unique().tolist()\n",
    "\n",
    "if (df['value'] < p_value_border).all():\n",
    "  dfs_for_levene =[df[df['group'] == val]['value'] for val in group_codes]\n",
    "\n",
    "  levene_result = stats.levene(*dfs_for_levene)\n",
    "  \n",
    "  \n",
    "  "
   ]
  },
  {
   "cell_type": "code",
   "execution_count": null,
   "metadata": {},
   "outputs": [],
   "source": [
    "levene_result"
   ]
  },
  {
   "cell_type": "code",
   "execution_count": null,
   "metadata": {},
   "outputs": [],
   "source": []
  },
  {
   "cell_type": "code",
   "execution_count": null,
   "metadata": {},
   "outputs": [],
   "source": [
    "group_codes=df['group'].unique().tolist()\n",
    "group_codes"
   ]
  },
  {
   "cell_type": "code",
   "execution_count": null,
   "metadata": {},
   "outputs": [],
   "source": [
    "tst=[df[df['group'] == val] for val in group_codes]\n",
    "tst[5]"
   ]
  },
  {
   "cell_type": "code",
   "execution_count": null,
   "metadata": {},
   "outputs": [],
   "source": [
    "dfs_for_levene = [tmp[tmp[group_col_name] == val] for val in group_codes]# if val != value]\n"
   ]
  },
  {
   "cell_type": "code",
   "execution_count": null,
   "metadata": {},
   "outputs": [],
   "source": [
    "    if shapiro_test1[1]<0.05 and shapiro_test2[1]<0.05 and shapiro_test3[1]<0.05:\n",
    "        levene=stats.levene(tmp[w][tmp['code']==a],\n",
    "                            tmp[w][tmp['code']==b],\n",
    "                            tmp[w][tmp['code']==c])"
   ]
  },
  {
   "cell_type": "code",
   "execution_count": null,
   "metadata": {},
   "outputs": [],
   "source": [
    "shapiros=anova_test(\n",
    "    df =df,\n",
    "    group_col_name = 'group',\n",
    "    values_col_name= 'value')\n",
    "\n",
    "shapiros"
   ]
  },
  {
   "cell_type": "code",
   "execution_count": null,
   "metadata": {},
   "outputs": [],
   "source": [
    "values = df['group'].unique().tolist()\n",
    "\n",
    "shapiros={}\n",
    "for value in values:\n",
    "  tmp = df[df['group'] == value]['value']"
   ]
  },
  {
   "cell_type": "code",
   "execution_count": null,
   "metadata": {},
   "outputs": [],
   "source": [
    "stats.shapiro(tmp)"
   ]
  },
  {
   "cell_type": "code",
   "execution_count": null,
   "metadata": {},
   "outputs": [],
   "source": [
    "\n",
    "shapiro=[]\n",
    "for v in values:\n",
    "    test=df1[[v,'code']]\n",
    "    for c in codes:\n",
    "        shapiro_test = stats.shapiro(test[test['code'] == c])\n",
    "        print(v,c,' ',shapiro_test)"
   ]
  },
  {
   "cell_type": "code",
   "execution_count": null,
   "metadata": {},
   "outputs": [],
   "source": []
  }
 ],
 "metadata": {
  "kernelspec": {
   "display_name": ".venv",
   "language": "python",
   "name": "python3"
  },
  "language_info": {
   "codemirror_mode": {
    "name": "ipython",
    "version": 3
   },
   "file_extension": ".py",
   "mimetype": "text/x-python",
   "name": "python",
   "nbconvert_exporter": "python",
   "pygments_lexer": "ipython3",
   "version": "3.12.1"
  }
 },
 "nbformat": 4,
 "nbformat_minor": 2
}
