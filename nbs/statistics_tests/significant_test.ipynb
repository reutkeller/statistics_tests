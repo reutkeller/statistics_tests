{
 "cells": [
  {
   "cell_type": "code",
   "execution_count": 1,
   "metadata": {},
   "outputs": [],
   "source": [
    "#|default_exp sig_test"
   ]
  },
  {
   "cell_type": "markdown",
   "metadata": {},
   "source": [
    "# Significant tests"
   ]
  },
  {
   "cell_type": "code",
   "execution_count": 2,
   "metadata": {},
   "outputs": [],
   "source": [
    "#|hide\n",
    "from nbdev.showdoc import *"
   ]
  },
  {
   "cell_type": "code",
   "execution_count": 23,
   "metadata": {},
   "outputs": [],
   "source": [
    "#|hide\n",
    "#|export\n",
    "import pandas as pd\n",
    "import numpy as np\n",
    "# import statsmodels.api as sm\n",
    "# import scipy.stats as stats\n",
    "# from statsmodels.formula.api import ols\n",
    "\n",
    "import matplotlib.pyplot as plt\n",
    "import scipy.stats as stats\n",
    "\n",
    "# import seaborn as sns\n",
    "\n",
    "\n",
    "# import scikit_posthocs as sp\n",
    "# import pandas as pd\n",
    "# import numpy as np\n",
    "# from io import StringIO\n",
    "\n",
    "# from statistics_tests import const_vals as const"
   ]
  },
  {
   "cell_type": "markdown",
   "metadata": {},
   "source": [
    "Constants - to be moved into another notebooks "
   ]
  },
  {
   "cell_type": "code",
   "execution_count": 66,
   "metadata": {},
   "outputs": [],
   "source": [
    "user_defined_number=50\n",
    "str_id = 'A'\n",
    "\n",
    "\n",
    "#shapiro table\n",
    "\n",
    "shapiro_group_code_str = 'group_code'\n",
    "shapiro_statistic_str='shapiro_statistic'\n",
    "shapiro_p_value_str ='shapiro_p_value'\n",
    "\n",
    "\n",
    "p_value_border = 0.05\n"
   ]
  },
  {
   "cell_type": "markdown",
   "metadata": {},
   "source": [
    "Create example dataframe "
   ]
  },
  {
   "cell_type": "code",
   "execution_count": 22,
   "metadata": {},
   "outputs": [
    {
     "data": {
      "text/html": [
       "<div>\n",
       "<style scoped>\n",
       "    .dataframe tbody tr th:only-of-type {\n",
       "        vertical-align: middle;\n",
       "    }\n",
       "\n",
       "    .dataframe tbody tr th {\n",
       "        vertical-align: top;\n",
       "    }\n",
       "\n",
       "    .dataframe thead th {\n",
       "        text-align: right;\n",
       "    }\n",
       "</style>\n",
       "<table border=\"1\" class=\"dataframe\">\n",
       "  <thead>\n",
       "    <tr style=\"text-align: right;\">\n",
       "      <th></th>\n",
       "      <th>id</th>\n",
       "      <th>value</th>\n",
       "      <th>group</th>\n",
       "    </tr>\n",
       "  </thead>\n",
       "  <tbody>\n",
       "    <tr>\n",
       "      <th>0</th>\n",
       "      <td>A1</td>\n",
       "      <td>0.380936</td>\n",
       "      <td>4</td>\n",
       "    </tr>\n",
       "    <tr>\n",
       "      <th>1</th>\n",
       "      <td>A2</td>\n",
       "      <td>0.108776</td>\n",
       "      <td>2</td>\n",
       "    </tr>\n",
       "    <tr>\n",
       "      <th>2</th>\n",
       "      <td>A3</td>\n",
       "      <td>0.872741</td>\n",
       "      <td>3</td>\n",
       "    </tr>\n",
       "    <tr>\n",
       "      <th>3</th>\n",
       "      <td>A4</td>\n",
       "      <td>0.377202</td>\n",
       "      <td>3</td>\n",
       "    </tr>\n",
       "    <tr>\n",
       "      <th>4</th>\n",
       "      <td>A5</td>\n",
       "      <td>0.321277</td>\n",
       "      <td>5</td>\n",
       "    </tr>\n",
       "  </tbody>\n",
       "</table>\n",
       "</div>"
      ],
      "text/plain": [
       "   id     value  group\n",
       "0  A1  0.380936      4\n",
       "1  A2  0.108776      2\n",
       "2  A3  0.872741      3\n",
       "3  A4  0.377202      3\n",
       "4  A5  0.321277      5"
      ]
     },
     "execution_count": 22,
     "metadata": {},
     "output_type": "execute_result"
    }
   ],
   "source": [
    "#|export\n",
    "\n",
    "data = {\n",
    "    'id': [str_id + str(i) for i in range(1, user_defined_number + 1)],\n",
    "    'value': np.random.rand(user_defined_number).tolist(),\n",
    "    'group': np.random.randint(1, 7, size=user_defined_number).tolist()\n",
    "}\n",
    "df=pd.DataFrame(data)\n",
    "df.head(5)"
   ]
  },
  {
   "cell_type": "markdown",
   "metadata": {},
   "source": [
    "# Anova test "
   ]
  },
  {
   "cell_type": "markdown",
   "metadata": {},
   "source": [
    "to be written "
   ]
  },
  {
   "cell_type": "code",
   "execution_count": 64,
   "metadata": {},
   "outputs": [],
   "source": [
    "#|export\n",
    "\n",
    "def anova_test(\n",
    "    df : pd.DataFrame , # DataFrame containing the observations and a column specifying the group to which each observation belongs.\n",
    "    group_col_name : str, # the column name which contain the group code \n",
    "    values_col_name : str , # the coulmn name of the column that contains the values of each observation\n",
    "    ):\n",
    "  \n",
    "  group_codes = df[group_col_name].unique().tolist()\n",
    "\n",
    "\n",
    "  shapiros={shapiro_group_code_str  : [], shapiro_statistic_str: [] , shapiro_p_value_str:[]}\n",
    "  \n",
    "  for group_code in group_codes:\n",
    "        tmp = df[df[group_col_name] == group_code]\n",
    "        shapiro_test = stats.shapiro(tmp[tmp[group_col_name] == group_code][values_col_name])\n",
    "\n",
    "        shapiros[shapiro_group_code_str ].append(group_code)\n",
    "        shapiros[shapiro_statistic_str].append(shapiro_test[0])\n",
    "        shapiros[shapiro_p_value_str].append(shapiro_test[1])\n",
    "\n",
    "\n",
    "  shapiros_df=pd.DataFrame(shapiros)\n",
    "\n",
    "  if all(shapiros_df[shapiro_p_value_str] < p_value_border):\n",
    "  \n",
    "  \n",
    "  return shapiros_df\n",
    "        \n",
    "  "
   ]
  },
  {
   "cell_type": "code",
   "execution_count": null,
   "metadata": {},
   "outputs": [],
   "source": [
    "    if shapiro_test1[1]<0.05 and shapiro_test2[1]<0.05 and shapiro_test3[1]<0.05:\n",
    "        levene=stats.levene(tmp[w][tmp['code']==a],\n",
    "                            tmp[w][tmp['code']==b],\n",
    "                            tmp[w][tmp['code']==c])"
   ]
  },
  {
   "cell_type": "code",
   "execution_count": 65,
   "metadata": {},
   "outputs": [
    {
     "data": {
      "text/html": [
       "<div>\n",
       "<style scoped>\n",
       "    .dataframe tbody tr th:only-of-type {\n",
       "        vertical-align: middle;\n",
       "    }\n",
       "\n",
       "    .dataframe tbody tr th {\n",
       "        vertical-align: top;\n",
       "    }\n",
       "\n",
       "    .dataframe thead th {\n",
       "        text-align: right;\n",
       "    }\n",
       "</style>\n",
       "<table border=\"1\" class=\"dataframe\">\n",
       "  <thead>\n",
       "    <tr style=\"text-align: right;\">\n",
       "      <th></th>\n",
       "      <th>value</th>\n",
       "      <th>shapiro_statistic</th>\n",
       "      <th>shapiro_p_value</th>\n",
       "    </tr>\n",
       "  </thead>\n",
       "  <tbody>\n",
       "    <tr>\n",
       "      <th>0</th>\n",
       "      <td>4</td>\n",
       "      <td>0.963090</td>\n",
       "      <td>0.820452</td>\n",
       "    </tr>\n",
       "    <tr>\n",
       "      <th>1</th>\n",
       "      <td>2</td>\n",
       "      <td>0.884296</td>\n",
       "      <td>0.246208</td>\n",
       "    </tr>\n",
       "    <tr>\n",
       "      <th>2</th>\n",
       "      <td>3</td>\n",
       "      <td>0.916734</td>\n",
       "      <td>0.260004</td>\n",
       "    </tr>\n",
       "    <tr>\n",
       "      <th>3</th>\n",
       "      <td>5</td>\n",
       "      <td>0.961265</td>\n",
       "      <td>0.816761</td>\n",
       "    </tr>\n",
       "    <tr>\n",
       "      <th>4</th>\n",
       "      <td>6</td>\n",
       "      <td>0.918001</td>\n",
       "      <td>0.413853</td>\n",
       "    </tr>\n",
       "    <tr>\n",
       "      <th>5</th>\n",
       "      <td>1</td>\n",
       "      <td>0.904284</td>\n",
       "      <td>0.315558</td>\n",
       "    </tr>\n",
       "  </tbody>\n",
       "</table>\n",
       "</div>"
      ],
      "text/plain": [
       "   value  shapiro_statistic  shapiro_p_value\n",
       "0      4           0.963090         0.820452\n",
       "1      2           0.884296         0.246208\n",
       "2      3           0.916734         0.260004\n",
       "3      5           0.961265         0.816761\n",
       "4      6           0.918001         0.413853\n",
       "5      1           0.904284         0.315558"
      ]
     },
     "execution_count": 65,
     "metadata": {},
     "output_type": "execute_result"
    }
   ],
   "source": [
    "shapiros=anova_test(\n",
    "    df =df,\n",
    "    group_col_name = 'group',\n",
    "    values_col_name= 'value')\n",
    "\n",
    "shapiros"
   ]
  },
  {
   "cell_type": "code",
   "execution_count": 34,
   "metadata": {},
   "outputs": [],
   "source": [
    "values = df['group'].unique().tolist()\n",
    "\n",
    "shapiros={}\n",
    "for value in values:\n",
    "  tmp = df[df['group'] == value]['value']"
   ]
  },
  {
   "cell_type": "code",
   "execution_count": 39,
   "metadata": {},
   "outputs": [
    {
     "data": {
      "text/plain": [
       "ShapiroResult(statistic=0.9042837023735046, pvalue=0.31555837392807007)"
      ]
     },
     "execution_count": 39,
     "metadata": {},
     "output_type": "execute_result"
    }
   ],
   "source": [
    "stats.shapiro(tmp)"
   ]
  },
  {
   "cell_type": "code",
   "execution_count": null,
   "metadata": {},
   "outputs": [],
   "source": [
    "\n",
    "shapiro=[]\n",
    "for v in values:\n",
    "    test=df1[[v,'code']]\n",
    "    for c in codes:\n",
    "        shapiro_test = stats.shapiro(test[test['code'] == c])\n",
    "        print(v,c,' ',shapiro_test)"
   ]
  },
  {
   "cell_type": "code",
   "execution_count": null,
   "metadata": {},
   "outputs": [],
   "source": []
  }
 ],
 "metadata": {
  "kernelspec": {
   "display_name": ".venv",
   "language": "python",
   "name": "python3"
  },
  "language_info": {
   "codemirror_mode": {
    "name": "ipython",
    "version": 3
   },
   "file_extension": ".py",
   "mimetype": "text/x-python",
   "name": "python",
   "nbconvert_exporter": "python",
   "pygments_lexer": "ipython3",
   "version": "3.12.1"
  }
 },
 "nbformat": 4,
 "nbformat_minor": 2
}
