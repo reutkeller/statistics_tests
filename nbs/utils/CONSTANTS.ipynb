{
 "cells": [
  {
   "cell_type": "code",
   "execution_count": 1,
   "metadata": {},
   "outputs": [],
   "source": [
    "#|default_exp const_vals"
   ]
  },
  {
   "cell_type": "markdown",
   "metadata": {},
   "source": [
    "# Constants"
   ]
  },
  {
   "cell_type": "code",
   "execution_count": 2,
   "metadata": {},
   "outputs": [],
   "source": [
    "#|hide\n",
    "from nbdev.showdoc import *"
   ]
  },
  {
   "cell_type": "code",
   "execution_count": 3,
   "metadata": {},
   "outputs": [],
   "source": [
    "#|export\n",
    "user_defined_number = 50\n",
    "\n",
    "str_id = 'A'\n",
    "\n",
    "\n",
    "#shapiro table\n",
    "\n",
    "shapiro_group_code_str = 'group_code'\n",
    "shapiro_statistic_str='shapiro_statistic'\n",
    "shapiro_p_value_str ='shapiro_p_value'\n",
    "\n",
    "#anova / significant differnce test \n",
    "group_code_str = 'group_code'\n",
    "p_value_str= 'p_value'\n",
    "\n",
    "sig_test_name_col_name = 'test_name'\n",
    "\n",
    "\n",
    "anova_name_str='one_way_anova'\n",
    "kruskal_name_str= 'kruskal'\n",
    "\n",
    "p_value_border = 0.05\n"
   ]
  },
  {
   "cell_type": "code",
   "execution_count": null,
   "metadata": {},
   "outputs": [],
   "source": []
  }
 ],
 "metadata": {
  "kernelspec": {
   "display_name": ".venv",
   "language": "python",
   "name": "python3"
  },
  "language_info": {
   "codemirror_mode": {
    "name": "ipython",
    "version": 3
   },
   "file_extension": ".py",
   "mimetype": "text/x-python",
   "name": "python",
   "nbconvert_exporter": "python",
   "pygments_lexer": "ipython3",
   "version": "3.12.1"
  }
 },
 "nbformat": 4,
 "nbformat_minor": 2
}
